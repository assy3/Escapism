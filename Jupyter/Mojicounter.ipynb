{
 "cells": [
  {
   "cell_type": "code",
   "execution_count": 15,
   "metadata": {},
   "outputs": [],
   "source": [
    "from tkinter import *\n",
    "\n",
    "def count_text( event ):\n",
    "    s = main_text.get(1.0, END)\n",
    "    info_label.config(text=\"{0}文字\" .format(len(s)))\n",
    "\n",
    "root = Tk()\n",
    "root.title('テキストカウンタ')\n",
    "\n",
    "main_text = Text(root)\n",
    "main_text.bind(\"<Key>\", count_text)\n",
    "main_text.pack()\n",
    "\n",
    "info_label = Label(root)\n",
    "info_label.pack()\n",
    "\n",
    "root.mainloop()\n"
   ]
  },
  {
   "cell_type": "code",
   "execution_count": null,
   "metadata": {},
   "outputs": [],
   "source": []
  },
  {
   "cell_type": "code",
   "execution_count": null,
   "metadata": {},
   "outputs": [],
   "source": []
  }
 ],
 "metadata": {
  "kernelspec": {
   "display_name": "Python 3",
   "language": "python",
   "name": "python3"
  },
  "language_info": {
   "codemirror_mode": {
    "name": "ipython",
    "version": 3
   },
   "file_extension": ".py",
   "mimetype": "text/x-python",
   "name": "python",
   "nbconvert_exporter": "python",
   "pygments_lexer": "ipython3",
   "version": "3.6.5"
  }
 },
 "nbformat": 4,
 "nbformat_minor": 2
}
